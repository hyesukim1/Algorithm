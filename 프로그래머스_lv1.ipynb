{
  "nbformat": 4,
  "nbformat_minor": 0,
  "metadata": {
    "colab": {
      "private_outputs": true,
      "provenance": [],
      "collapsed_sections": [],
      "name": "프로그래머스 lv1.ipynb",
      "authorship_tag": "ABX9TyOl1pGmKBCxcTHNTRfiw8+/",
      "include_colab_link": true
    },
    "kernelspec": {
      "name": "python3",
      "display_name": "Python 3"
    },
    "language_info": {
      "name": "python"
    }
  },
  "cells": [
    {
      "cell_type": "markdown",
      "metadata": {
        "id": "view-in-github",
        "colab_type": "text"
      },
      "source": [
        "<a href=\"https://colab.research.google.com/github/hyesukim1/baekjoon/blob/main/%ED%94%84%EB%A1%9C%EA%B7%B8%EB%9E%98%EB%A8%B8%EC%8A%A4_lv1.ipynb\" target=\"_parent\"><img src=\"https://colab.research.google.com/assets/colab-badge.svg\" alt=\"Open In Colab\"/></a>"
      ]
    },
    {
      "cell_type": "code",
      "source": [
        "# 짝수와 홀수\n",
        "def solution(num):\n",
        "    if num % 2 == 0:\n",
        "        return 'Even'\n",
        "    else:\n",
        "        return 'Odd'\n",
        "        "
      ],
      "metadata": {
        "id": "jv0UE8rciR8y"
      },
      "execution_count": null,
      "outputs": []
    },
    {
      "cell_type": "code",
      "source": [
        "# 평균 구하기\n",
        "def solution(arr):\n",
        "    ans = sum(arr) / len(arr)\n",
        "    return ans\n",
        "\n",
        "# for 문을 쓸필요가 없었음"
      ],
      "metadata": {
        "id": "30vQWwiYiZxB"
      },
      "execution_count": null,
      "outputs": []
    },
    {
      "cell_type": "code",
      "source": [
        "# 약수의 합\n",
        "def solution(n):\n",
        "    lst =  []\n",
        "    # n을 받아 약수를 리스트로 구하기\n",
        "    for i in range(1, n+1):\n",
        "       if n % i ==0: # 숫자 나눈 후 나머지 0이면 약수\n",
        "            lst.append(i)\n",
        "    print(lst)\n",
        "    # 약수 더하기\n",
        "    answer = sum(lst)\n",
        "    return answer"
      ],
      "metadata": {
        "id": "xhWj0FFVjOiK"
      },
      "execution_count": null,
      "outputs": []
    },
    {
      "cell_type": "code",
      "source": [
        "# 자릿수 더하기\n",
        "def solution(n):\n",
        "    num = [int(i) for i in str(n)]\n",
        "    # print(num)\n",
        "    answer = sum(num)\n",
        "    return answer"
      ],
      "metadata": {
        "id": "igDtvRhrnn1l"
      },
      "execution_count": null,
      "outputs": []
    },
    {
      "cell_type": "code",
      "source": [
        "# 정수 제곱근 판별\n",
        "import math\n",
        "\n",
        "def solution(n):\n",
        "    # n이 제곱근이면 n \n",
        "    num = math.sqrt(n)\n",
        "    if int(num) == num:\n",
        "        return (num+1) ** 2 \n",
        "    else:\n",
        "        return -1"
      ],
      "metadata": {
        "id": "B7z7MPT9q0oK"
      },
      "execution_count": null,
      "outputs": []
    },
    {
      "cell_type": "code",
      "source": [
        "# 자연수 뒤집어 배열로 만들기\n",
        "\n",
        "def solution(n):\n",
        "    num = [int(i) for i in str(n) ]\n",
        "    # print(num)\n",
        "    answer = num.reverse() \n",
        "    # reverse는 해당 리스트만 뒤섞어주고\n",
        "    # 값을 반환하지 않음\n",
        "    return num"
      ],
      "metadata": {
        "id": "2o681HhytlRr"
      },
      "execution_count": null,
      "outputs": []
    },
    {
      "cell_type": "code",
      "source": [
        "# 문자열 내 p와 y의 개수\n",
        "def solution(s):\n",
        "    # 소문자로 맞춰서 리스트에 넣고\n",
        "    lst = [i for i in str(s.lower())]\n",
        "    # p,y 갯수 세고\n",
        "    # 같으면 T, 다르면 F\n",
        "    ## 리스트 안에 원소 갯수 구할땐 list.count('원소')\n",
        "    if lst.count('p') == lst.count('y'):\n",
        "        return True\n",
        "    else:\n",
        "        return False"
      ],
      "metadata": {
        "id": "-9_nYXOUzDDl"
      },
      "execution_count": null,
      "outputs": []
    },
    {
      "cell_type": "code",
      "source": [
        "# 하샤드 수\n",
        "def solution(x):\n",
        "       return x % sum([int(b) for b in str(x)]) == 0"
      ],
      "metadata": {
        "id": "1jZtuvdnzHGr"
      },
      "execution_count": null,
      "outputs": []
    },
    {
      "cell_type": "code",
      "source": [
        "# 정수 내림차순으로 배치하기\n",
        "\n",
        "def solution(n):\n",
        "    ans = [int(a) for a in str(n)]\n",
        "    lst = sorted(ans, reverse=True)\n",
        "    lst_join = \"\".join(map(str, lst))\n",
        "    return int(lst_join)"
      ],
      "metadata": {
        "id": "mAf6HjBOJDej"
      },
      "execution_count": null,
      "outputs": []
    },
    {
      "cell_type": "code",
      "source": [
        "# 문자열 정수로 나누기 \n",
        "def solution(s):\n",
        "    return int(s)"
      ],
      "metadata": {
        "id": "60mSH8_OQskL"
      },
      "execution_count": null,
      "outputs": []
    },
    {
      "cell_type": "code",
      "source": [
        "# x만큼 간격이 있는 n개의 숫자\n",
        "def solution(x, n):\n",
        "    answer = [a for a in range(1, n+1)]\n",
        "    ans = []\n",
        "    for i in answer:\n",
        "        ans.append(x * i)\n",
        "    return ans"
      ],
      "metadata": {
        "id": "VRV_RP7GSyn7"
      },
      "execution_count": null,
      "outputs": []
    }
  ]
}