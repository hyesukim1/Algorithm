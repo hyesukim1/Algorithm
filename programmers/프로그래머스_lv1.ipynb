{
  "nbformat": 4,
  "nbformat_minor": 0,
  "metadata": {
    "colab": {
      "private_outputs": true,
      "provenance": [],
      "name": "프로그래머스 lv1.ipynb",
      "authorship_tag": "ABX9TyOUeL/WfNX3WeftBWc7NuOq",
      "include_colab_link": true
    },
    "kernelspec": {
      "name": "python3",
      "display_name": "Python 3"
    },
    "language_info": {
      "name": "python"
    }
  },
  "cells": [
    {
      "cell_type": "markdown",
      "metadata": {
        "id": "view-in-github",
        "colab_type": "text"
      },
      "source": [
        "<a href=\"https://colab.research.google.com/github/hyesukim1/Algorithm/blob/main/programmers/%ED%94%84%EB%A1%9C%EA%B7%B8%EB%9E%98%EB%A8%B8%EC%8A%A4_lv1.ipynb\" target=\"_parent\"><img src=\"https://colab.research.google.com/assets/colab-badge.svg\" alt=\"Open In Colab\"/></a>"
      ]
    },
    {
      "cell_type": "code",
      "source": [
        "# 짝수와 홀수\n",
        "def solution(num):\n",
        "    if num % 2 == 0:\n",
        "        return 'Even'\n",
        "    else:\n",
        "        return 'Odd'\n",
        "        "
      ],
      "metadata": {
        "id": "jv0UE8rciR8y"
      },
      "execution_count": null,
      "outputs": []
    },
    {
      "cell_type": "code",
      "source": [
        "# 평균 구하기\n",
        "def solution(arr):\n",
        "    ans = sum(arr) / len(arr)\n",
        "    return ans\n",
        "\n",
        "# for 문을 쓸필요가 없었음"
      ],
      "metadata": {
        "id": "30vQWwiYiZxB"
      },
      "execution_count": null,
      "outputs": []
    },
    {
      "cell_type": "code",
      "source": [
        "# 약수의 합\n",
        "def solution(n):\n",
        "    lst =  []\n",
        "    # n을 받아 약수를 리스트로 구하기\n",
        "    for i in range(1, n+1):\n",
        "       if n % i ==0: # 숫자 나눈 후 나머지 0이면 약수\n",
        "            lst.append(i)\n",
        "    print(lst)\n",
        "    # 약수 더하기\n",
        "    answer = sum(lst)\n",
        "    return answer"
      ],
      "metadata": {
        "id": "xhWj0FFVjOiK"
      },
      "execution_count": null,
      "outputs": []
    },
    {
      "cell_type": "code",
      "source": [
        "# 자릿수 더하기\n",
        "def solution(n):\n",
        "    num = [int(i) for i in str(n)]\n",
        "    # print(num)\n",
        "    answer = sum(num)\n",
        "    return answer"
      ],
      "metadata": {
        "id": "igDtvRhrnn1l"
      },
      "execution_count": null,
      "outputs": []
    },
    {
      "cell_type": "code",
      "source": [
        "# 정수 제곱근 판별\n",
        "import math\n",
        "\n",
        "def solution(n):\n",
        "    # n이 제곱근이면 n \n",
        "    num = math.sqrt(n)\n",
        "    if int(num) == num:\n",
        "        return (num+1) ** 2 \n",
        "    else:\n",
        "        return -1"
      ],
      "metadata": {
        "id": "B7z7MPT9q0oK"
      },
      "execution_count": null,
      "outputs": []
    },
    {
      "cell_type": "code",
      "source": [
        "# 자연수 뒤집어 배열로 만들기\n",
        "\n",
        "def solution(n):\n",
        "    num = [int(i) for i in str(n) ]\n",
        "    # print(num)\n",
        "    answer = num.reverse() \n",
        "    # reverse는 해당 리스트만 뒤섞어주고\n",
        "    # 값을 반환하지 않음\n",
        "    return num"
      ],
      "metadata": {
        "id": "2o681HhytlRr"
      },
      "execution_count": null,
      "outputs": []
    },
    {
      "cell_type": "code",
      "source": [
        "# 문자열 내 p와 y의 개수\n",
        "def solution(s):\n",
        "    # 소문자로 맞춰서 리스트에 넣고\n",
        "    lst = [i for i in str(s.lower())]\n",
        "    # p,y 갯수 세고\n",
        "    # 같으면 T, 다르면 F\n",
        "    ## 리스트 안에 원소 갯수 구할땐 list.count('원소')\n",
        "    if lst.count('p') == lst.count('y'):\n",
        "        return True\n",
        "    else:\n",
        "        return False"
      ],
      "metadata": {
        "id": "-9_nYXOUzDDl"
      },
      "execution_count": null,
      "outputs": []
    },
    {
      "cell_type": "code",
      "source": [
        "# 하샤드 수\n",
        "def solution(x):\n",
        "       return x % sum([int(b) for b in str(x)]) == 0"
      ],
      "metadata": {
        "id": "1jZtuvdnzHGr"
      },
      "execution_count": null,
      "outputs": []
    },
    {
      "cell_type": "code",
      "source": [
        "# 정수 내림차순으로 배치하기\n",
        "\n",
        "def solution(n):\n",
        "    ans = [int(a) for a in str(n)]\n",
        "    lst = sorted(ans, reverse=True)\n",
        "    lst_join = \"\".join(map(str, lst))\n",
        "    return int(lst_join)"
      ],
      "metadata": {
        "id": "mAf6HjBOJDej"
      },
      "execution_count": null,
      "outputs": []
    },
    {
      "cell_type": "code",
      "source": [
        "# 문자열 정수로 나누기 \n",
        "def solution(s):\n",
        "    return int(s)"
      ],
      "metadata": {
        "id": "60mSH8_OQskL"
      },
      "execution_count": null,
      "outputs": []
    },
    {
      "cell_type": "code",
      "source": [
        "# x만큼 간격이 있는 n개의 숫자\n",
        "def solution(x, n):\n",
        "    answer = [a for a in range(1, n+1)]\n",
        "    ans = []\n",
        "    for i in answer:\n",
        "        ans.append(x * i)\n",
        "    return ans"
      ],
      "metadata": {
        "id": "VRV_RP7GSyn7"
      },
      "execution_count": null,
      "outputs": []
    },
    {
      "cell_type": "code",
      "source": [
        "# 나머지가 1이 되는 수 찾기\n",
        "\n",
        "def solution(n):\n",
        "    for i in range(1, n):\n",
        "        if n % i == 1:\n",
        "            return i"
      ],
      "metadata": {
        "id": "agBbJYlPSxTn"
      },
      "execution_count": null,
      "outputs": []
    },
    {
      "cell_type": "code",
      "source": [
        "# 두 정수 사이의 합\n",
        "def solution(a, b):\n",
        "    total = 0\n",
        "    if a < b:\n",
        "        for i in range(a, b+1):\n",
        "            total += i \n",
        "    else:\n",
        "        for i in range(b, a+1):\n",
        "            total +=i\n",
        "    return total"
      ],
      "metadata": {
        "id": "fpd2YPWWUHEF"
      },
      "execution_count": null,
      "outputs": []
    },
    {
      "cell_type": "code",
      "source": [
        "# 서울에서 김서방 찾기\n",
        "def solution(seoul):\n",
        "    count = 0\n",
        "    for i in seoul:\n",
        "        if i == \"Kim\":\n",
        "            return \"김서방은 {a}에 있다\".format(a=count)\n",
        "        else:\n",
        "            count = count+1\n",
        "\n",
        "# 다른사람의 풀이\n",
        "def findKim(seoul):\n",
        "    return \"김서방은 {}에 있다\".format(seoul.index('Kim'))"
      ],
      "metadata": {
        "id": "LVqCbnCMFHep"
      },
      "execution_count": null,
      "outputs": []
    },
    {
      "cell_type": "code",
      "source": [
        "# 나누어 떨어지는 숫자 배열\n",
        "def solution(arr, divisor):\n",
        "    array = sorted(arr)\n",
        "    lst = [i for i in array if i%divisor == 0]\n",
        "    return lst if len(lst) != 0 else [-1]"
      ],
      "metadata": {
        "id": "nLPQaRpOFS7n"
      },
      "execution_count": null,
      "outputs": []
    },
    {
      "cell_type": "code",
      "source": [
        "# 작은 수 제거하기\n",
        "def solution(arr):\n",
        "    if len(arr) > 1:\n",
        "        arr.remove(min(arr))\n",
        "        return arr\n",
        "    else: \n",
        "        return [-1]"
      ],
      "metadata": {
        "id": "BLx1hS9BW9RT"
      },
      "execution_count": null,
      "outputs": []
    },
    {
      "cell_type": "code",
      "source": [
        "# 없는 숫자 더하기\n",
        "def solution(numbers):\n",
        "    a = sum(numbers)\n",
        "    return 45 - a"
      ],
      "metadata": {
        "id": "vRYcYcuVXBZ5"
      },
      "execution_count": null,
      "outputs": []
    },
    {
      "cell_type": "code",
      "source": [
        "# 가운데 글자 가져오기\n",
        "def solution(s):\n",
        "    if len(s)%2 == 0:\n",
        "        a = len(s)//2 -1\n",
        "        b = len(s)//2 +1\n",
        "        return s[a:b]\n",
        "    else:\n",
        "        a = round(len(s) // 2)\n",
        "        return s[a]"
      ],
      "metadata": {
        "id": "P98U8QgDmSgn"
      },
      "execution_count": null,
      "outputs": []
    },
    {
      "cell_type": "code",
      "source": [
        "# 수박수박수박수박\n",
        "def solution(n):\n",
        "    answer=''\n",
        "    for i in range(n):\n",
        "        if i % 2 == 0:\n",
        "            answer = answer + '수'\n",
        "        else:\n",
        "            answer = answer + '박'\n",
        "    return answer"
      ],
      "metadata": {
        "id": "0UL3a1uvgBse"
      },
      "execution_count": null,
      "outputs": []
    },
    {
      "cell_type": "code",
      "source": [
        "# 문자열 내림차순으로 배치하기\n",
        "def solution(s):\n",
        "    return ''.join(sorted(s, reverse=True))\n",
        "\n",
        "def solution(s):\n",
        "    s = list(s)\n",
        "    s.sort(reverse = True)\n",
        "    answer = \"\"\n",
        "    for i in s:\n",
        "        answer = answer + i\n",
        "    return answer"
      ],
      "metadata": {
        "id": "FjgmQapAf4Ca"
      },
      "execution_count": null,
      "outputs": []
    },
    {
      "cell_type": "code",
      "source": [
        "def solution(s):\n",
        "    if (len(s) == 4 or len(s) == 6) and s.isdigit():\n",
        "        return True\n",
        "    else: \n",
        "        return False\n",
        "            \n",
        "\n",
        "s = \"a234ddddd\"\n",
        "solution(s)"
      ],
      "metadata": {
        "id": "iHFT_b-IkIj2"
      },
      "execution_count": null,
      "outputs": []
    },
    {
      "cell_type": "code",
      "source": [
        "def solution(left, right):\n",
        "    s = []\n",
        "    m = []\n",
        "    for i in range(left, right+1):\n",
        "        a = []\n",
        "        for j in range(1, i+1):\n",
        "            if i % j == 0:\n",
        "                a.append(j)\n",
        "                \n",
        "        if len(a) % 2 == 0:\n",
        "            s.append(i)\n",
        "        else:\n",
        "            m.append(i)\n",
        "    return sum(s) - sum(m)"
      ],
      "metadata": {
        "id": "GVdw06rEkSE9"
      },
      "execution_count": null,
      "outputs": []
    },
    {
      "cell_type": "code",
      "source": [
        "# 부족한 금액 계산하기\n",
        "def solution(price, money, count):\n",
        "    a = [x * price for x in range(1, count+1)]\n",
        "    \n",
        "    if sum(a) - money >= 0:\n",
        "        return abs(sum(a) - money)\n",
        "    else:\n",
        "        return 0"
      ],
      "metadata": {
        "id": "mi4YWi_ynBPA"
      },
      "execution_count": null,
      "outputs": []
    },
    {
      "cell_type": "code",
      "source": [
        "# 행렬의 덧셈\n",
        "\n",
        "# 내풀이 \n",
        "import numpy as np\n",
        "\n",
        "def solution(arr1, arr2):\n",
        "    a = np.array(arr1)\n",
        "    b = np.array(arr2)\n",
        "    answer = a+b\n",
        "    return answer.tolist()\n",
        "    \n",
        "# 괜찮은 풀이\n",
        "def sumMatrix(A,B):\n",
        "    for i in range(len(A)) :\n",
        "        for j in range(len(A[0])):\n",
        "            A[i][j] += B[i][j] \n",
        "    return A"
      ],
      "metadata": {
        "id": "q_lHrEhPFZ8w"
      },
      "execution_count": null,
      "outputs": []
    },
    {
      "cell_type": "code",
      "source": [
        "# 직사각형 별찍기\n",
        "a, b = map(int, input().strip().split(' '))\n",
        "for i in range(b):\n",
        "    print('*' * a)\n",
        "\n",
        "# 남의꺼\n",
        "a, b = map(int, input().strip().split(' '))\n",
        "answer = ('*'*a +'\\n')*b\n",
        "print(answer)\n",
        "\n",
        "a, b = map(int, input().strip().split(' '))\n",
        "\n",
        "for i in range(b):\n",
        "    for j in range(a):\n",
        "        print('*', end='')\n",
        "    print('')"
      ],
      "metadata": {
        "id": "Gb2aJaGt4hCT"
      },
      "execution_count": null,
      "outputs": []
    },
    {
      "cell_type": "code",
      "source": [
        "# 하샤드 수\n",
        "def solution(x):\n",
        "    a = list(map(int, str(x)))\n",
        "    if x % sum(a) == 0:\n",
        "        return True\n",
        "    else:\n",
        "        return False\n",
        "\n",
        "# 남이 푼 코드\n",
        "def Harshad(n):\n",
        "    return n % sum([int(c) for c in str(n)]) == 0\n",
        "  \n",
        "def solution(x):\n",
        "    answer = True\n",
        "    seat = sum(list(map(int, list(str(x)))))\n",
        "    if x % seat:\n",
        "        answer = False\n",
        "    return answer"
      ],
      "metadata": {
        "id": "8wXDgClnVB3A"
      },
      "execution_count": null,
      "outputs": []
    },
    {
      "cell_type": "code",
      "source": [
        "# 음양 더하기\n",
        "def solution(absolutes, signs):\n",
        "    a = []\n",
        "    for ind, i in enumerate(absolutes):\n",
        "        if signs[ind] ==True:\n",
        "            a.append(i)\n",
        "        else:\n",
        "            a.append(int('-'+str(i)))\n",
        "    return sum(a)\n",
        "    \n",
        "# 다른 사람\n",
        "def solution(absolutes, signs):\n",
        "    answer=0\n",
        "    for absolute,sign in zip(absolutes,signs):\n",
        "        if sign:\n",
        "            answer+=absolute\n",
        "        else:\n",
        "            answer-=absolute\n",
        "    return answer"
      ],
      "metadata": {
        "id": "vlGpdW9HElTY"
      },
      "execution_count": null,
      "outputs": []
    },
    {
      "cell_type": "code",
      "source": [
        "# 두개 뽑아서 더하기\n",
        "# 뭔가 복잡도 고려해서 안한거 같음\n",
        "def solution(numbers):\n",
        "    a = []\n",
        "    for ind, i in enumerate(numbers):\n",
        "        for idex, j in enumerate(numbers):\n",
        "            if ind != idex:\n",
        "                a.append(i+j)\n",
        "    return sorted(set(a))\n",
        "\n",
        "# 다른 사람\n",
        "from itertools import combinations\n",
        "def solution(numbers):\n",
        "    return sorted(set(sum(i) for i in list(combinations(numbers, 2))))\n",
        "\n",
        "def solution(numbers):\n",
        "    sum_set = set([])\n",
        "\n",
        "    for i in range(len(numbers)):\n",
        "        for j in range(i+1, len(numbers)):\n",
        "            sum_set.add(numbers[i]+numbers[j])\n",
        "    return sorted(list(sum_set))"
      ],
      "metadata": {
        "id": "Zcv42_hvsqrT"
      },
      "execution_count": null,
      "outputs": []
    },
    {
      "cell_type": "code",
      "source": [
        "# k번째 수\n",
        "def solution(array, commands):\n",
        "    ans = []\n",
        "    for i in commands:\n",
        "        a = sorted(array[i[0]-1:i[1]])\n",
        "        ans.append(a[i[2]-1])\n",
        "    return ans"
      ],
      "metadata": {
        "id": "fj2GDBY28mQ-"
      },
      "execution_count": null,
      "outputs": []
    },
    {
      "cell_type": "code",
      "source": [
        "#크기가 작은 부분 문자열\n",
        "def solution(t, p):\n",
        "    a = []\n",
        "    for i in range(len(t)):\n",
        "        if len(t[i:i+len(p)]) == len(p):\n",
        "            a.append(t[i:i+len(p)])\n",
        "    ans = []\n",
        "    for b in a:\n",
        "        if int(b) <= int(p):\n",
        "            ans.append(b)\n",
        "    return len(ans)"
      ],
      "metadata": {
        "id": "khjB4hfHBV_1"
      },
      "execution_count": null,
      "outputs": []
    },
    {
      "cell_type": "code",
      "source": [
        "# 같은 숫자는 싫어\n",
        "def solution(arr):\n",
        "    for ind, i in enumerate(arr):\n",
        "        print(ind)\n",
        "        # print(arr[ind], arr[ind+1])"
      ],
      "metadata": {
        "id": "uABIGlDmUrIA"
      },
      "execution_count": null,
      "outputs": []
    },
    {
      "cell_type": "code",
      "source": [
        "# 문자열 내 마음대로 정렬하기\n",
        "def solution(strings, n):\n",
        "    strings.sort()\n",
        "    ans = []\n",
        "    for a in range(len(strings)):\n",
        "        if strings[a][n] not in ans:\n",
        "            ans.append(strings[a][n])\n",
        "    ans.sort()\n",
        "    b = []\n",
        "    for ind, i in enumerate(ans): \n",
        "            for j in strings:\n",
        "                if i == j[n] and j:  \n",
        "                    b.append(j)\n",
        "    return b\n",
        "        "
      ],
      "metadata": {
        "id": "E3egAt96BXAF"
      },
      "execution_count": null,
      "outputs": []
    },
    {
      "cell_type": "code",
      "source": [
        "# 기사 단원의 무기\n",
        "from math import sqrt\n",
        "def solution(number, limit, power):\n",
        "    a = []\n",
        "    for k in range(1, number+1):\n",
        "        cnt = 0\n",
        "        for i in range(1, int(sqrt(k))+1):\n",
        "            if k % i == 0:\n",
        "                cnt +=1\n",
        "                if (i**2) != k:\n",
        "                    cnt +=1\n",
        "        if cnt > limit:\n",
        "            a.append(power)\n",
        "        else:\n",
        "            a.append(cnt)\n",
        "    return sum(a)"
      ],
      "metadata": {
        "id": "UPlLSRfL3vWy"
      },
      "execution_count": null,
      "outputs": []
    },
    {
      "cell_type": "code",
      "source": [
        "from datetime import datetime\n",
        "def solution(a, b): \n",
        "    c = datetime(2016, 1, 1)\n",
        "    d = datetime(2016, a, b)\n",
        "    ans = d-c\n",
        "    abc = ['FRI','SAT','SUN','MON','TUE','WED','THU']\n",
        "    # format = '%Y-%m-%d'\n",
        "    # str_datetime = datetime.datetime.strftime(ans,format)\n",
        "    # print(str_datetime)\n",
        "    # for i in range(int(ans)):\n",
        "    #     print(i)\n",
        "    result = ans.strftime(\"%d\", \"%H시 %M분 %S.%f초\")\n",
        "    print(result)"
      ],
      "metadata": {
        "id": "cHKkQQN7Gq4x"
      },
      "execution_count": null,
      "outputs": []
    },
    {
      "cell_type": "code",
      "source": [
        "# 내적\n",
        "def solution(a, b):\n",
        "    ans = []\n",
        "    for i in range(len(a)):\n",
        "        ans.append(a[i]*b[i])\n",
        "    return sum(ans)\n",
        "\n",
        "# 다른 사람 풀이\n",
        "def solution(a, b):\n",
        "    return sum([x*y for x, y in zip(a,b)])"
      ],
      "metadata": {
        "id": "Sg1kRvrex9vR"
      },
      "execution_count": null,
      "outputs": []
    },
    {
      "cell_type": "code",
      "source": [
        "# 예산\n",
        "def solution(d, budget):\n",
        "    d.sort()\n",
        "    cnt = 0\n",
        "    if sum(d) - budget == 0:\n",
        "            return len(d)\n",
        "    for i in d:\n",
        "        if budget - i >= 0:\n",
        "            budget = budget-i\n",
        "            cnt += 1\n",
        "    return cnt\n",
        "\n",
        "# 다른 사람 풀이\n",
        "def solution(d, budget):\n",
        "    s = 0\n",
        "    j = 0\n",
        "    d.sort()\n",
        "\n",
        "    for i in range(len(d)):\n",
        "        s += d[i]\n",
        "        if s > budget:\n",
        "            break\n",
        "        else:\n",
        "            j += 1\n",
        "\n",
        "\n",
        "    return j"
      ],
      "metadata": {
        "id": "VAfAC_5hf6PN"
      },
      "execution_count": null,
      "outputs": []
    },
    {
      "cell_type": "code",
      "source": [
        "# 삼총사\n",
        "import itertools\n",
        "def solution(number):\n",
        "    number.sort() \n",
        "    nPr = itertools.combinations(number, 3)\n",
        "    cnt = 0\n",
        "    for i in nPr:\n",
        "        if sum(i) == 0:\n",
        "            cnt += 1\n",
        "    return cnt\n",
        "# 사람들이 다 비슷하게 코드 짬"
      ],
      "metadata": {
        "id": "id5tDC4HAw7S"
      },
      "execution_count": null,
      "outputs": []
    },
    {
      "cell_type": "code",
      "source": [
        "# 순열관련 문제\n",
        "import itertools\n",
        "def solution(nums):\n",
        "    nums.sort(reverse=True)\n",
        "    lst = []\n",
        "    a = nums[0]+nums[1]+nums[2]\n",
        "    for i in range(2, a+1):\n",
        "        for j in range(2, i+1): \n",
        "            if j==i:\n",
        "                lst.append(i)\n",
        "            if i%j == 0:\n",
        "                break\n",
        "    nCr = itertools.combinations(nums, 3)\n",
        "    cnt = 0\n",
        "    for j in nCr:\n",
        "        if sum(j) in lst:\n",
        "            cnt +=1\n",
        "    return cnt"
      ],
      "metadata": {
        "id": "c_X33nLDbf5L"
      },
      "execution_count": null,
      "outputs": []
    }
  ]
}