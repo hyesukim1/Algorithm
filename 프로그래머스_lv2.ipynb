{
  "nbformat": 4,
  "nbformat_minor": 0,
  "metadata": {
    "colab": {
      "private_outputs": true,
      "provenance": [],
      "name": "프로그래머스.ipynb",
      "include_colab_link": true
    },
    "kernelspec": {
      "name": "python3",
      "display_name": "Python 3"
    },
    "language_info": {
      "name": "python"
    }
  },
  "cells": [
    {
      "cell_type": "markdown",
      "metadata": {
        "id": "view-in-github",
        "colab_type": "text"
      },
      "source": [
        "<a href=\"https://colab.research.google.com/github/hyesukim1/baekjoon/blob/main/%ED%94%84%EB%A1%9C%EA%B7%B8%EB%9E%98%EB%A8%B8%EC%8A%A4_lv2.ipynb\" target=\"_parent\"><img src=\"https://colab.research.google.com/assets/colab-badge.svg\" alt=\"Open In Colab\"/></a>"
      ]
    },
    {
      "cell_type": "code",
      "source": [
        "# 최댓값과 최솟값\n",
        "def solution(s):\n",
        "    a = s.split(' ')\n",
        "    an = []\n",
        "    for i in range(len(a)):\n",
        "        an.append(int(a[i]))\n",
        "    ans = str(min(an)) +' '+ str(max(an))\n",
        "    return ans"
      ],
      "metadata": {
        "id": "W2WH5qOZtHrt"
      },
      "execution_count": null,
      "outputs": []
    }
  ]
}