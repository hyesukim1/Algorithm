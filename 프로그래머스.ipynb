{
  "nbformat": 4,
  "nbformat_minor": 0,
  "metadata": {
    "colab": {
      "private_outputs": true,
      "provenance": [],
      "name": "프로그래머스.ipynb",
      "include_colab_link": true
    },
    "kernelspec": {
      "name": "python3",
      "display_name": "Python 3"
    },
    "language_info": {
      "name": "python"
    }
  },
  "cells": [
    {
      "cell_type": "markdown",
      "metadata": {
        "id": "view-in-github",
        "colab_type": "text"
      },
      "source": [
        "<a href=\"https://colab.research.google.com/github/hyesukim1/baekjoon/blob/main/%ED%94%84%EB%A1%9C%EA%B7%B8%EB%9E%98%EB%A8%B8%EC%8A%A4.ipynb\" target=\"_parent\"><img src=\"https://colab.research.google.com/assets/colab-badge.svg\" alt=\"Open In Colab\"/></a>"
      ]
    },
    {
      "cell_type": "code",
      "execution_count": null,
      "metadata": {
        "id": "99KwAWznDaWb"
      },
      "outputs": [],
      "source": [
        "def solution(array):\n",
        "    a = str(array)\n",
        "    count = 0\n",
        "    for i in a:\n",
        "        if i == str(7):\n",
        "            count+=1\n",
        "    return count"
      ]
    },
    {
      "cell_type": "code",
      "source": [
        "def solution(n, t):\n",
        "    ans = n\n",
        "    for i in range(t):\n",
        "        ans = ans * 2\n",
        "    return ans"
      ],
      "metadata": {
        "id": "iH0ajoZkOZ83"
      },
      "execution_count": null,
      "outputs": []
    },
    {
      "cell_type": "code",
      "source": [
        "def solution(num_list):\n",
        "    a = []\n",
        "    for letter in num_list[::-1]:\n",
        "        a.append(letter)\n",
        "    return a"
      ],
      "metadata": {
        "id": "oDrn4rf7Ra46"
      },
      "execution_count": null,
      "outputs": []
    }
  ]
}