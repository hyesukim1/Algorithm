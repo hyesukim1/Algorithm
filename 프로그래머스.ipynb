{
  "nbformat": 4,
  "nbformat_minor": 0,
  "metadata": {
    "colab": {
      "private_outputs": true,
      "provenance": [],
      "name": "프로그래머스.ipynb",
      "include_colab_link": true
    },
    "kernelspec": {
      "name": "python3",
      "display_name": "Python 3"
    },
    "language_info": {
      "name": "python"
    }
  },
  "cells": [
    {
      "cell_type": "markdown",
      "metadata": {
        "id": "view-in-github",
        "colab_type": "text"
      },
      "source": [
        "<a href=\"https://colab.research.google.com/github/hyesukim1/Algorithm/blob/main/%ED%94%84%EB%A1%9C%EA%B7%B8%EB%9E%98%EB%A8%B8%EC%8A%A4.ipynb\" target=\"_parent\"><img src=\"https://colab.research.google.com/assets/colab-badge.svg\" alt=\"Open In Colab\"/></a>"
      ]
    },
    {
      "cell_type": "code",
      "source": [
        "# 최댓값과 최솟값\n",
        "def solution(s):\n",
        "    a = s.split(' ')\n",
        "    an = []\n",
        "    for i in range(len(a)):\n",
        "        an.append(int(a[i]))\n",
        "    ans = str(min(an)) +' '+ str(max(an))\n",
        "    return ans\n",
        "\n",
        "# 다른사람 풀이: 이렇게 간단하게도 가능\n",
        "def solution(s):\n",
        "    s = list(map(int,s.split()))\n",
        "    return str(min(s)) + \" \" + str(max(s))\n",
        "\n",
        "# 다른사람 풀이: 내장 함수 join이 생각이 안나서 아쉬웠던\n",
        "def solution(s):\n",
        "    il = sorted([int(c) for c in s.split(' ')])\n",
        "    answer = ' '.join([str(il[0]), str(il[len(il)-1])])\n",
        "    return answer"
      ],
      "metadata": {
        "id": "W2WH5qOZtHrt"
      },
      "execution_count": null,
      "outputs": []
    },
    {
      "cell_type": "code",
      "source": [
        "# JadenCase 문자열 만들기\n",
        "def solution(s):\n",
        "    answer = ''\n",
        "    s=s.split(' ')\n",
        "    for i in range(len(s)):\n",
        "        s[i]=s[i].capitalize()\n",
        "    answer=' '.join(s)\n",
        "    return answer\n",
        "# 다른사람 풀이(이거보고 세상이 날 바보로 만든줄)\n",
        "def Jaden_Case(s):\n",
        "    return s.title()\n",
        "\n",
        "def Jaden_Case(s):\n",
        "    answer =[]\n",
        "    for i in range(len(s.split())):\n",
        "        answer.append(s.split()[i][0].upper() + s.split()[i].lower()[1:]) \n",
        "    return \" \".join(answer)"
      ],
      "metadata": {
        "id": "aJW1OWP4Ru1D"
      },
      "execution_count": null,
      "outputs": []
    },
    {
      "cell_type": "code",
      "source": [
        "# 최솟값 만들기\n",
        "def solution(A,B):\n",
        "    a = sorted(A)\n",
        "    B.sort(reverse=True)\n",
        "    ans = []\n",
        "    for i in range(len(a)):\n",
        "        ans.append(a[i]*B[i])\n",
        "    return sum(ans)"
      ],
      "metadata": {
        "id": "TCUCpw6izJLc"
      },
      "execution_count": null,
      "outputs": []
    }
  ]
}