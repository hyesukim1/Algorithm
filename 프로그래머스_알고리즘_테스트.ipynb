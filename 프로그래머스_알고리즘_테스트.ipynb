{
  "nbformat": 4,
  "nbformat_minor": 0,
  "metadata": {
    "colab": {
      "private_outputs": true,
      "provenance": [],
      "authorship_tag": "ABX9TyNwVnLZMbnwoOtL/RLXWE/7",
      "include_colab_link": true
    },
    "kernelspec": {
      "name": "python3",
      "display_name": "Python 3"
    },
    "language_info": {
      "name": "python"
    }
  },
  "cells": [
    {
      "cell_type": "markdown",
      "metadata": {
        "id": "view-in-github",
        "colab_type": "text"
      },
      "source": [
        "<a href=\"https://colab.research.google.com/github/hyesukim1/baekjoon/blob/main/%ED%94%84%EB%A1%9C%EA%B7%B8%EB%9E%98%EB%A8%B8%EC%8A%A4_%EC%95%8C%EA%B3%A0%EB%A6%AC%EC%A6%98_%ED%85%8C%EC%8A%A4%ED%8A%B8.ipynb\" target=\"_parent\"><img src=\"https://colab.research.google.com/assets/colab-badge.svg\" alt=\"Open In Colab\"/></a>"
      ]
    },
    {
      "cell_type": "markdown",
      "source": [
        "## 탐욕법"
      ],
      "metadata": {
        "id": "QtZlZWQYpf8g"
      }
    },
    {
      "cell_type": "code",
      "execution_count": null,
      "metadata": {
        "id": "RIBRsdGwpbGe"
      },
      "outputs": [],
      "source": [
        "# 체육복\n",
        "def solution(n, lost, reserve):\n",
        "    inter = list(set(lost)&set(reserve))\n",
        "    lost = list(set(lost) - set(inter))\n",
        "    reserve = list(set(reserve) - set(inter))\n",
        "    \n",
        "    for i in lost:\n",
        "        if i-1 in reserve:\n",
        "            reserve.remove(i-1)\n",
        "        elif i-1 not in reserve and i+1 in reserve:\n",
        "            reserve.remove(i+1)\n",
        "        else:\n",
        "            n-=1        \n",
        "    return n\n",
        "                \n",
        "# 다른 사람 풀이\n",
        "def solution(n, lost, reserve):\n",
        "    _reserve = [r for r in reserve if r not in lost]\n",
        "    _lost = [l for l in lost if l not in reserve]\n",
        "    for r in _reserve:\n",
        "        f = r - 1\n",
        "        b = r + 1\n",
        "        if f in _lost:\n",
        "            _lost.remove(f)\n",
        "        elif b in _lost:\n",
        "            _lost.remove(b)\n",
        "    return n - len(_lost)"
      ]
    },
    {
      "cell_type": "markdown",
      "source": [
        "## 완전탐색"
      ],
      "metadata": {
        "id": "UHrs2Db7QDFP"
      }
    },
    {
      "cell_type": "code",
      "source": [
        "# 최소 직사각형\n",
        "def solution(sizes):\n",
        "    for i in sizes:\n",
        "        if i[0] < i[1]:\n",
        "            i[0], i[1] = i[1], i[0]\n",
        "    a = []\n",
        "    b = []\n",
        "    for j in sizes:\n",
        "        a.append(j[0])\n",
        "        b.append(j[1])\n",
        "    return max(a) * max(b)\n",
        "\n",
        "# 다른 사람 풀이\n",
        "def solution(sizes):\n",
        "    return max(max(x) for x in sizes) * max(min(x) for x in sizes)"
      ],
      "metadata": {
        "id": "AQvBa0vWPzDS"
      },
      "execution_count": null,
      "outputs": []
    },
    {
      "cell_type": "markdown",
      "source": [
        "## 큐/스택"
      ],
      "metadata": {
        "id": "W-JL4PEOu9UI"
      }
    },
    {
      "cell_type": "code",
      "source": [
        "# 같은 숫자는 싫어\n",
        "def solution(arr):\n",
        "    stack = [10]\n",
        "    for i in range(len(arr)):\n",
        "        if stack[-1] != arr[i]:\n",
        "            stack.append(arr[i])\n",
        "    stack.pop(0)\n",
        "    return stack\n",
        "# 다른 사람 풀이\n",
        "def no_continuous(s):\n",
        "    result = []\n",
        "    for c in s:\n",
        "        if (len(result) == 0) or (result[-1] != c):\n",
        "            result.append(c)\n",
        "    return result"
      ],
      "metadata": {
        "id": "1pCN9bfgvAL8"
      },
      "execution_count": null,
      "outputs": []
    },
    {
      "cell_type": "markdown",
      "source": [
        "## 정렬"
      ],
      "metadata": {
        "id": "qoz06QRAKhTh"
      }
    },
    {
      "cell_type": "code",
      "source": [
        "# H-index\n",
        "def solution(citations):\n",
        "    citations.sort(reverse=True)\n",
        "    cnt = 0\n",
        "    for ind, i in enumerate(citations):\n",
        "        if ind < i:\n",
        "            cnt += 1\n",
        "    return cnt\n",
        "# 다른 사람 풀이\n",
        "def solution(citations):\n",
        "    citations.sort(reverse=True)\n",
        "    answer = max(map(min, enumerate(citations, start=1)))\n",
        "    return answer"
      ],
      "metadata": {
        "id": "ANvmWnf7Kihp"
      },
      "execution_count": null,
      "outputs": []
    },
    {
      "cell_type": "code",
      "source": [
        "# 가장 큰 수\n",
        "from itertools import permutations\n",
        "def solution(numbers):\n",
        "    numbers.sort(reverse=True)\n",
        "    res = permutations(numbers, len(numbers))\n",
        "    ans = []\n",
        "    for i in res:\n",
        "        a = [str(j) for j in list(i)]\n",
        "        print(a)\n",
        "    #     ans.append(int(''.join(a)))\n",
        "    # return str(max(ans))"
      ],
      "metadata": {
        "id": "E7ft1MoIXhxO"
      },
      "execution_count": null,
      "outputs": []
    }
  ]
}